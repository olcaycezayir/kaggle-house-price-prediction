{
 "cells": [
  {
   "cell_type": "code",
   "execution_count": 2,
   "id": "1730ba36",
   "metadata": {},
   "outputs": [],
   "source": [
    "import numpy as np\n",
    "import pandas as pd\n",
    "import seaborn as sns\n",
    "from matplotlib import pyplot as plt\n",
    "\n",
    "from sklearn import model_selection as mod\n",
    "from sklearn import impute as imp\n",
    "from sklearn import pipeline as pip\n",
    "from sklearn import preprocessing as pre\n",
    "from sklearn import compose as com\n",
    "from sklearn import linear_model as lin\n",
    "from sklearn import tree\n",
    "from sklearn.experimental import enable_iterative_imputer\n",
    "from sklearn import svm\n",
    "from sklearn import metrics as met\n",
    "from sklearn import ensemble as ens\n",
    "\n",
    "from xgboost import XGBRegressor"
   ]
  },
  {
   "cell_type": "code",
   "execution_count": 3,
   "id": "1904e885",
   "metadata": {},
   "outputs": [
    {
     "data": {
      "text/plain": [
       "((18000, 22), (9247, 21))"
      ]
     },
     "execution_count": 3,
     "metadata": {},
     "output_type": "execute_result"
    }
   ],
   "source": [
    "#Read Data\n",
    "df_train = pd.read_csv('train.csv')\n",
    "df_test = pd.read_csv('test.csv')\n",
    "df_train.shape, df_test.shape"
   ]
  },
  {
   "cell_type": "code",
   "execution_count": 4,
   "id": "53af570f",
   "metadata": {},
   "outputs": [
    {
     "data": {
      "text/html": [
       "<div>\n",
       "<style scoped>\n",
       "    .dataframe tbody tr th:only-of-type {\n",
       "        vertical-align: middle;\n",
       "    }\n",
       "\n",
       "    .dataframe tbody tr th {\n",
       "        vertical-align: top;\n",
       "    }\n",
       "\n",
       "    .dataframe thead th {\n",
       "        text-align: right;\n",
       "    }\n",
       "</style>\n",
       "<table border=\"1\" class=\"dataframe\">\n",
       "  <thead>\n",
       "    <tr style=\"text-align: right;\">\n",
       "      <th></th>\n",
       "      <th>ID</th>\n",
       "      <th>Distance</th>\n",
       "      <th>Date</th>\n",
       "      <th>SellerG</th>\n",
       "      <th>Propertycount</th>\n",
       "      <th>Car</th>\n",
       "      <th>Method</th>\n",
       "      <th>CouncilArea</th>\n",
       "      <th>Suburb</th>\n",
       "      <th>Bathroom</th>\n",
       "      <th>...</th>\n",
       "      <th>Type</th>\n",
       "      <th>Postcode</th>\n",
       "      <th>BuildingArea</th>\n",
       "      <th>Lattitude</th>\n",
       "      <th>Bedroom2</th>\n",
       "      <th>Landsize</th>\n",
       "      <th>YearBuilt</th>\n",
       "      <th>Longtitude</th>\n",
       "      <th>Rooms</th>\n",
       "      <th>Price</th>\n",
       "    </tr>\n",
       "  </thead>\n",
       "  <tbody>\n",
       "    <tr>\n",
       "      <th>0</th>\n",
       "      <td>0</td>\n",
       "      <td>28.8</td>\n",
       "      <td>4/11/2017</td>\n",
       "      <td>Barry</td>\n",
       "      <td>3533.0</td>\n",
       "      <td>3.0</td>\n",
       "      <td>S</td>\n",
       "      <td>Casey City Council</td>\n",
       "      <td>Doveton</td>\n",
       "      <td>1.0</td>\n",
       "      <td>...</td>\n",
       "      <td>h</td>\n",
       "      <td>3177.0</td>\n",
       "      <td>NaN</td>\n",
       "      <td>-37.9941</td>\n",
       "      <td>3.0</td>\n",
       "      <td>NaN</td>\n",
       "      <td>NaN</td>\n",
       "      <td>145.2329</td>\n",
       "      <td>3.0</td>\n",
       "      <td>614000.0</td>\n",
       "    </tr>\n",
       "    <tr>\n",
       "      <th>1</th>\n",
       "      <td>1</td>\n",
       "      <td>25.9</td>\n",
       "      <td>25/11/2017</td>\n",
       "      <td>HAR</td>\n",
       "      <td>5812.0</td>\n",
       "      <td>2.0</td>\n",
       "      <td>S</td>\n",
       "      <td>Whittlesea City Council</td>\n",
       "      <td>Mernda</td>\n",
       "      <td>2.0</td>\n",
       "      <td>...</td>\n",
       "      <td>h</td>\n",
       "      <td>3754.0</td>\n",
       "      <td>NaN</td>\n",
       "      <td>-37.6132</td>\n",
       "      <td>4.0</td>\n",
       "      <td>NaN</td>\n",
       "      <td>NaN</td>\n",
       "      <td>145.0903</td>\n",
       "      <td>4.0</td>\n",
       "      <td>555000.0</td>\n",
       "    </tr>\n",
       "    <tr>\n",
       "      <th>2</th>\n",
       "      <td>2</td>\n",
       "      <td>11.2</td>\n",
       "      <td>24/09/2016</td>\n",
       "      <td>Ray</td>\n",
       "      <td>21650.0</td>\n",
       "      <td>NaN</td>\n",
       "      <td>S</td>\n",
       "      <td>Darebin City Council</td>\n",
       "      <td>Reservoir</td>\n",
       "      <td>1.0</td>\n",
       "      <td>...</td>\n",
       "      <td>h</td>\n",
       "      <td>3073.0</td>\n",
       "      <td>NaN</td>\n",
       "      <td>-37.7050</td>\n",
       "      <td>3.0</td>\n",
       "      <td>771.0</td>\n",
       "      <td>1965.0</td>\n",
       "      <td>145.0035</td>\n",
       "      <td>4.0</td>\n",
       "      <td>801000.0</td>\n",
       "    </tr>\n",
       "    <tr>\n",
       "      <th>3</th>\n",
       "      <td>3</td>\n",
       "      <td>3.3</td>\n",
       "      <td>12/11/2016</td>\n",
       "      <td>Williams</td>\n",
       "      <td>14887.0</td>\n",
       "      <td>1.0</td>\n",
       "      <td>S</td>\n",
       "      <td>Melbourne City Council</td>\n",
       "      <td>South Yarra</td>\n",
       "      <td>1.0</td>\n",
       "      <td>...</td>\n",
       "      <td>u</td>\n",
       "      <td>3141.0</td>\n",
       "      <td>NaN</td>\n",
       "      <td>-37.8356</td>\n",
       "      <td>1.0</td>\n",
       "      <td>630.0</td>\n",
       "      <td>NaN</td>\n",
       "      <td>144.9773</td>\n",
       "      <td>1.0</td>\n",
       "      <td>555000.0</td>\n",
       "    </tr>\n",
       "    <tr>\n",
       "      <th>4</th>\n",
       "      <td>4</td>\n",
       "      <td>NaN</td>\n",
       "      <td>25/02/2017</td>\n",
       "      <td>Trimson</td>\n",
       "      <td>7570.0</td>\n",
       "      <td>1.0</td>\n",
       "      <td>S</td>\n",
       "      <td>Maribyrnong City Council</td>\n",
       "      <td>Footscray</td>\n",
       "      <td>1.0</td>\n",
       "      <td>...</td>\n",
       "      <td>u</td>\n",
       "      <td>3011.0</td>\n",
       "      <td>NaN</td>\n",
       "      <td>-37.8012</td>\n",
       "      <td>2.0</td>\n",
       "      <td>0.0</td>\n",
       "      <td>NaN</td>\n",
       "      <td>144.8964</td>\n",
       "      <td>2.0</td>\n",
       "      <td>360000.0</td>\n",
       "    </tr>\n",
       "  </tbody>\n",
       "</table>\n",
       "<p>5 rows × 22 columns</p>\n",
       "</div>"
      ],
      "text/plain": [
       "   ID  Distance        Date   SellerG  Propertycount  Car Method  \\\n",
       "0   0      28.8   4/11/2017     Barry         3533.0  3.0      S   \n",
       "1   1      25.9  25/11/2017       HAR         5812.0  2.0      S   \n",
       "2   2      11.2  24/09/2016       Ray        21650.0  NaN      S   \n",
       "3   3       3.3  12/11/2016  Williams        14887.0  1.0      S   \n",
       "4   4       NaN  25/02/2017   Trimson         7570.0  1.0      S   \n",
       "\n",
       "                CouncilArea       Suburb  Bathroom  ... Type Postcode  \\\n",
       "0        Casey City Council      Doveton       1.0  ...    h   3177.0   \n",
       "1   Whittlesea City Council       Mernda       2.0  ...    h   3754.0   \n",
       "2      Darebin City Council    Reservoir       1.0  ...    h   3073.0   \n",
       "3    Melbourne City Council  South Yarra       1.0  ...    u   3141.0   \n",
       "4  Maribyrnong City Council    Footscray       1.0  ...    u   3011.0   \n",
       "\n",
       "  BuildingArea  Lattitude  Bedroom2  Landsize  YearBuilt  Longtitude  Rooms  \\\n",
       "0          NaN   -37.9941       3.0       NaN        NaN    145.2329    3.0   \n",
       "1          NaN   -37.6132       4.0       NaN        NaN    145.0903    4.0   \n",
       "2          NaN   -37.7050       3.0     771.0     1965.0    145.0035    4.0   \n",
       "3          NaN   -37.8356       1.0     630.0        NaN    144.9773    1.0   \n",
       "4          NaN   -37.8012       2.0       0.0        NaN    144.8964    2.0   \n",
       "\n",
       "      Price  \n",
       "0  614000.0  \n",
       "1  555000.0  \n",
       "2  801000.0  \n",
       "3  555000.0  \n",
       "4  360000.0  \n",
       "\n",
       "[5 rows x 22 columns]"
      ]
     },
     "execution_count": 4,
     "metadata": {},
     "output_type": "execute_result"
    }
   ],
   "source": [
    "df_train.head()"
   ]
  },
  {
   "cell_type": "code",
   "execution_count": 5,
   "id": "3229ba8a",
   "metadata": {},
   "outputs": [
    {
     "data": {
      "text/plain": [
       "ID                   0\n",
       "Distance           182\n",
       "Date               209\n",
       "SellerG            188\n",
       "Propertycount      174\n",
       "Car               4697\n",
       "Method             179\n",
       "CouncilArea        168\n",
       "Suburb             170\n",
       "Bathroom          4436\n",
       "Regionname         186\n",
       "Address            189\n",
       "Type               215\n",
       "Postcode           211\n",
       "BuildingArea     11125\n",
       "Lattitude         4311\n",
       "Bedroom2          4423\n",
       "Landsize          6207\n",
       "YearBuilt        10138\n",
       "Longtitude        4317\n",
       "Rooms              150\n",
       "Price                0\n",
       "dtype: int64"
      ]
     },
     "execution_count": 5,
     "metadata": {},
     "output_type": "execute_result"
    }
   ],
   "source": [
    "df_train.isnull().sum()"
   ]
  },
  {
   "cell_type": "code",
   "execution_count": 6,
   "id": "7fdda2e8",
   "metadata": {},
   "outputs": [
    {
     "data": {
      "text/plain": [
       "ID                  0\n",
       "Distance           82\n",
       "Date              107\n",
       "SellerG            93\n",
       "Propertycount      95\n",
       "Car              2354\n",
       "Method             74\n",
       "CouncilArea       115\n",
       "Suburb             90\n",
       "Bathroom         2217\n",
       "Regionname         93\n",
       "Address            96\n",
       "Type              104\n",
       "Postcode           88\n",
       "BuildingArea     5590\n",
       "Lattitude        2164\n",
       "Bedroom2         2222\n",
       "Landsize         3225\n",
       "YearBuilt        5121\n",
       "Longtitude       2153\n",
       "Rooms              92\n",
       "dtype: int64"
      ]
     },
     "execution_count": 6,
     "metadata": {},
     "output_type": "execute_result"
    }
   ],
   "source": [
    "df_test.isnull().sum()"
   ]
  },
  {
   "cell_type": "code",
   "execution_count": 7,
   "id": "70f501f3",
   "metadata": {},
   "outputs": [
    {
     "name": "stdout",
     "output_type": "stream",
     "text": [
      "for column Date has --> 78 unique -->max 579\n",
      "for column SellerG has --> 317 unique -->max 1768\n",
      "for column Method has --> 5 unique -->max 11407\n",
      "for column CouncilArea has --> 33 unique -->max 1642\n",
      "for column Suburb has --> 339 unique -->max 472\n",
      "for column Regionname has --> 8 unique -->max 5557\n",
      "for column Address has --> 17599 unique -->max 3\n",
      "for column Type has --> 3 unique -->max 11979\n"
     ]
    }
   ],
   "source": [
    "for column in df_train.select_dtypes(include='object').columns:\n",
    "  print('for column',column, 'has -->', len(df_train[column].value_counts()), 'unique','-->max' , df_train[column].value_counts()[0] )"
   ]
  },
  {
   "cell_type": "code",
   "execution_count": 8,
   "id": "82a79f7a",
   "metadata": {},
   "outputs": [],
   "source": [
    "#Date>>Year, Drop Date for both df_train and df_test\n",
    "df_train['Year'] =  pd.to_datetime(df_train['Date'], dayfirst=True).dt.year\n",
    "df_train['Month'] =  pd.to_datetime(df_train['Date'], dayfirst=True).dt.month\n",
    "df_train = df_train.drop(['Date'],axis=1)\n",
    "df_test['Year'] =  pd.to_datetime(df_test['Date'], dayfirst=True).dt.year\n",
    "df_test['Month'] =  pd.to_datetime(df_test['Date'], dayfirst=True).dt.month\n",
    "df_test = df_test.drop('Date',axis=1)"
   ]
  },
  {
   "cell_type": "code",
   "execution_count": 9,
   "id": "9f7f5d93",
   "metadata": {},
   "outputs": [
    {
     "data": {
      "text/plain": [
       "0        11.0\n",
       "1        11.0\n",
       "2         9.0\n",
       "3        11.0\n",
       "4         2.0\n",
       "         ... \n",
       "17995     8.0\n",
       "17996     7.0\n",
       "17997     8.0\n",
       "17998     4.0\n",
       "17999    11.0\n",
       "Name: Month, Length: 18000, dtype: float64"
      ]
     },
     "execution_count": 9,
     "metadata": {},
     "output_type": "execute_result"
    }
   ],
   "source": [
    "df_train['Month']"
   ]
  },
  {
   "cell_type": "code",
   "execution_count": 10,
   "id": "10c6b14e",
   "metadata": {},
   "outputs": [],
   "source": [
    "df_train = df_train.drop(['ID', 'Address', 'Lattitude', 'Longtitude'], axis=1)\n",
    "df_test = df_test.drop(['ID', 'Address', 'Lattitude', 'Longtitude'], axis=1)"
   ]
  },
  {
   "cell_type": "code",
   "execution_count": 11,
   "id": "ae861278",
   "metadata": {},
   "outputs": [
    {
     "name": "stdout",
     "output_type": "stream",
     "text": [
      "for column SellerG has --> 317 unique -->max 1768\n",
      "for column Method has --> 5 unique -->max 11407\n",
      "for column CouncilArea has --> 33 unique -->max 1642\n",
      "for column Suburb has --> 339 unique -->max 472\n",
      "for column Regionname has --> 8 unique -->max 5557\n",
      "for column Type has --> 3 unique -->max 11979\n"
     ]
    }
   ],
   "source": [
    "for column in df_train.select_dtypes(include='object').columns:\n",
    "  print('for column',column, 'has -->', len(df_train[column].value_counts()), 'unique','-->max' , df_train[column].value_counts()[0] )"
   ]
  },
  {
   "cell_type": "code",
   "execution_count": 12,
   "id": "752e7899",
   "metadata": {},
   "outputs": [
    {
     "data": {
      "text/plain": [
       "((18000, 18), (18000,))"
      ]
     },
     "execution_count": 12,
     "metadata": {},
     "output_type": "execute_result"
    }
   ],
   "source": [
    "#split X and y\n",
    "X = df_train.drop('Price', axis=1)\n",
    "y = df_train['Price']\n",
    "X.shape, y.shape"
   ]
  },
  {
   "cell_type": "code",
   "execution_count": 13,
   "id": "8ac7a85d",
   "metadata": {},
   "outputs": [
    {
     "data": {
      "text/plain": [
       "Index(['Distance', 'Propertycount', 'Car', 'Bathroom', 'Postcode',\n",
       "       'BuildingArea', 'Bedroom2', 'Landsize', 'YearBuilt', 'Rooms', 'Year',\n",
       "       'Month'],\n",
       "      dtype='object')"
      ]
     },
     "execution_count": 13,
     "metadata": {},
     "output_type": "execute_result"
    }
   ],
   "source": [
    "X.select_dtypes(exclude='object').columns"
   ]
  },
  {
   "cell_type": "code",
   "execution_count": 14,
   "id": "7e175ca7",
   "metadata": {},
   "outputs": [],
   "source": [
    "columns_for_itr = ['YearBuilt', 'BuildingArea']\n",
    "columns_for_knn = ['Distance', 'Propertycount', 'Postcode', 'Landsize', 'Rooms', 'Year', 'Month']"
   ]
  },
  {
   "cell_type": "code",
   "execution_count": 16,
   "id": "1edf42e3",
   "metadata": {},
   "outputs": [
    {
     "data": {
      "text/plain": [
       "RandomizedSearchCV(cv=3,\n",
       "                   estimator=Pipeline(steps=[('ct',\n",
       "                                              ColumnTransformer(transformers=[('cat',\n",
       "                                                                               Pipeline(steps=[('imp',\n",
       "                                                                                                SimpleImputer(fill_value='missing',\n",
       "                                                                                                              strategy='constant')),\n",
       "                                                                                               ('encoder',\n",
       "                                                                                                OneHotEncoder(handle_unknown='ignore'))]),\n",
       "                                                                               Index(['SellerG', 'Method', 'CouncilArea', 'Suburb', 'Regionname', 'Type'], dtype='object')),\n",
       "                                                                              ('knn',\n",
       "                                                                               Pipeline(steps=[('scaler',\n",
       "                                                                                                St...\n",
       "                                                                               Index(['Distance', 'Propertycount', 'Car', 'Bathroom', 'Postcode',\n",
       "       'BuildingArea', 'Bedroom2', 'Landsize', 'YearBuilt', 'Rooms', 'Year',\n",
       "       'Month'],\n",
       "      dtype='object'))])),\n",
       "                                             ('est',\n",
       "                                              RandomForestRegressor(random_state=42))]),\n",
       "                   param_distributions={'ct__knn__imp__n_neighbors': [3, 4, 7],\n",
       "                                        'ct__knn__imp__weights': ['uniform',\n",
       "                                                                  'distance'],\n",
       "                                        'est__n_estimators': [100, 200, 500]},\n",
       "                   scoring='neg_root_mean_squared_error')"
      ]
     },
     "execution_count": 16,
     "metadata": {},
     "output_type": "execute_result"
    }
   ],
   "source": [
    "#GridSearch for RandomForest with IterativeImputer and KNN\n",
    "\n",
    "pipe_cat = pip.Pipeline([\n",
    "    (\"imp\", imp.SimpleImputer(strategy=\"constant\", fill_value='missing')),\n",
    "    (\"encoder\" , pre.OneHotEncoder(handle_unknown='ignore')),\n",
    "])\n",
    "\n",
    "\n",
    "pipe_itr = pip.Pipeline([\n",
    "    (\"scaler\", pre.StandardScaler()),\n",
    "    (\"imp\", imp.IterativeImputer(estimator=lin.LinearRegression()))\n",
    "])\n",
    "\n",
    "\n",
    "pipe_knn = pip.Pipeline([\n",
    "    (\"scaler\", pre.StandardScaler()),\n",
    "    (\"imp\", imp.KNNImputer())\n",
    "])\n",
    "ct_raw = com.ColumnTransformer([\n",
    "    ('cat', pipe_cat, X.select_dtypes(include='object').columns),\n",
    "    ('knn', pipe_knn, X.select_dtypes(exclude='object').columns)\n",
    "    #('itr', pipe_itr, columns_for_itr)\n",
    "    \n",
    "])\n",
    "\n",
    "pipe_model = pip.Pipeline([\n",
    "    ('ct', ct_raw),\n",
    "    ('est', ens.RandomForestRegressor(random_state=42))\n",
    "])\n",
    "\n",
    "params = {\n",
    "    'ct__knn__imp__n_neighbors': [3,4,7],\n",
    "    'ct__knn__imp__weights': ['uniform', 'distance'],\n",
    "    'est__n_estimators': [100,200,500]\n",
    "\n",
    "}\n",
    "\n",
    "grid_knn_rndForest = mod.RandomizedSearchCV(pipe_model, params, scoring='neg_root_mean_squared_error', cv=3)\n",
    "grid_knn_rndForest.fit(X, y)"
   ]
  },
  {
   "cell_type": "code",
   "execution_count": 17,
   "id": "51cd1295",
   "metadata": {},
   "outputs": [
    {
     "data": {
      "text/plain": [
       "-316483.19928513764"
      ]
     },
     "execution_count": 17,
     "metadata": {},
     "output_type": "execute_result"
    }
   ],
   "source": [
    "grid_knn_rndForest.best_score_"
   ]
  },
  {
   "cell_type": "code",
   "execution_count": 18,
   "id": "f2e90611",
   "metadata": {},
   "outputs": [
    {
     "data": {
      "text/plain": [
       "{'est__n_estimators': 500,\n",
       " 'ct__knn__imp__weights': 'uniform',\n",
       " 'ct__knn__imp__n_neighbors': 3}"
      ]
     },
     "execution_count": 18,
     "metadata": {},
     "output_type": "execute_result"
    }
   ],
   "source": [
    "grid_knn_rndForest.best_params_"
   ]
  },
  {
   "cell_type": "code",
   "execution_count": 19,
   "id": "16992aa0",
   "metadata": {},
   "outputs": [],
   "source": [
    "np.set_printoptions(suppress=True)\n",
    "y_pred = grid_knn_rndForest.predict(df_test)"
   ]
  },
  {
   "cell_type": "code",
   "execution_count": 20,
   "id": "7798be6b",
   "metadata": {},
   "outputs": [],
   "source": [
    "df = pd.DataFrame(y_pred, columns=['Price'])\n",
    "df.index.name = 'ID'"
   ]
  },
  {
   "cell_type": "code",
   "execution_count": 21,
   "id": "8da2c625",
   "metadata": {},
   "outputs": [],
   "source": [
    "df.to_csv(\"OlcayCezayirSubmissionV10.csv\")"
   ]
  },
  {
   "cell_type": "code",
   "execution_count": null,
   "id": "9926c26e",
   "metadata": {},
   "outputs": [],
   "source": []
  }
 ],
 "metadata": {
  "kernelspec": {
   "display_name": "Python 3 (ipykernel)",
   "language": "python",
   "name": "python3"
  },
  "language_info": {
   "codemirror_mode": {
    "name": "ipython",
    "version": 3
   },
   "file_extension": ".py",
   "mimetype": "text/x-python",
   "name": "python",
   "nbconvert_exporter": "python",
   "pygments_lexer": "ipython3",
   "version": "3.9.12"
  }
 },
 "nbformat": 4,
 "nbformat_minor": 5
}
